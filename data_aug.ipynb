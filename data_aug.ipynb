{
 "cells": [
  {
   "cell_type": "code",
   "execution_count": 2,
   "metadata": {},
   "outputs": [],
   "source": [
    "import tensorflow as tf\n",
    "from tensorflow import keras\n",
    "\n",
    "import os\n",
    "import shutil\n",
    "from keras.preprocessing.image import ImageDataGenerator\n",
    "\n",
    "from sklearn.utils import class_weight \n",
    "import numpy as np\n",
    "import Augmentor"
   ]
  },
  {
   "cell_type": "code",
   "execution_count": 3,
   "metadata": {},
   "outputs": [],
   "source": [
    "src_dir = './from_data/'\n",
    "des_dir = './aug_data/'"
   ]
  },
  {
   "cell_type": "code",
   "execution_count": 6,
   "metadata": {},
   "outputs": [
    {
     "data": {
      "text/plain": [
       "[9, 12, 16, 7, 13, 4, 3, 14, 3]"
      ]
     },
     "execution_count": 6,
     "metadata": {},
     "output_type": "execute_result"
    }
   ],
   "source": [
    "records_count = [len(os.listdir(f'{src_dir}{class_}')) for class_ in os.listdir(src_dir)]\n",
    "records_count"
   ]
  },
  {
   "cell_type": "code",
   "execution_count": 8,
   "metadata": {},
   "outputs": [],
   "source": [
    "min_class_size = min(records_count)\n",
    "max_class_size = max(records_count)\n"
   ]
  },
  {
   "cell_type": "code",
   "execution_count": 9,
   "metadata": {},
   "outputs": [
    {
     "name": "stdout",
     "output_type": "stream",
     "text": [
      "Initialised with 9 image(s) found.\n",
      "Output directory set to ./from_data/actinic keratosis\\output."
     ]
    },
    {
     "name": "stderr",
     "output_type": "stream",
     "text": [
      "Processing <PIL.Image.Image image mode=RGB size=600x450 at 0x2097337CEE0>: 100%|██████████| 6/6 [00:00<00:00, 14.05 Samples/s]                  \n"
     ]
    },
    {
     "name": "stdout",
     "output_type": "stream",
     "text": [
      "Initialised with 12 image(s) found.\n",
      "Output directory set to ./from_data/basal cell carcinoma\\output."
     ]
    },
    {
     "name": "stderr",
     "output_type": "stream",
     "text": [
      "Processing <PIL.Image.Image image mode=RGB size=600x450 at 0x2097337C610>: 100%|██████████| 3/3 [00:00<00:00, 12.04 Samples/s]\n"
     ]
    },
    {
     "name": "stdout",
     "output_type": "stream",
     "text": [
      "Initialised with 7 image(s) found.\n",
      "Output directory set to ./from_data/melanoma\\output."
     ]
    },
    {
     "name": "stderr",
     "output_type": "stream",
     "text": [
      "Processing <PIL.Image.Image image mode=RGB size=1022x767 at 0x20973395940>: 100%|██████████| 8/8 [00:01<00:00,  6.45 Samples/s]                  \n"
     ]
    },
    {
     "name": "stdout",
     "output_type": "stream",
     "text": [
      "Initialised with 13 image(s) found.\n",
      "Output directory set to ./from_data/nevus\\output."
     ]
    },
    {
     "name": "stderr",
     "output_type": "stream",
     "text": [
      "Processing <PIL.Image.Image image mode=RGB size=1022x767 at 0x2097337C550>: 100%|██████████| 2/2 [00:00<00:00,  4.62 Samples/s]\n"
     ]
    },
    {
     "name": "stdout",
     "output_type": "stream",
     "text": [
      "Initialised with 4 image(s) found.\n",
      "Output directory set to ./from_data/pigmented benign keratosis\\output."
     ]
    },
    {
     "name": "stderr",
     "output_type": "stream",
     "text": [
      "Processing <PIL.Image.Image image mode=RGB size=600x450 at 0x20973389580>: 100%|██████████| 11/11 [00:00<00:00, 27.43 Samples/s]                 \n"
     ]
    },
    {
     "name": "stdout",
     "output_type": "stream",
     "text": [
      "Initialised with 3 image(s) found.\n",
      "Output directory set to ./from_data/seborrheic keratosis\\output."
     ]
    },
    {
     "name": "stderr",
     "output_type": "stream",
     "text": [
      "Processing <PIL.Image.Image image mode=RGB size=1024x768 at 0x209733A7100>: 100%|██████████| 12/12 [00:01<00:00, 11.13 Samples/s]\n"
     ]
    },
    {
     "name": "stdout",
     "output_type": "stream",
     "text": [
      "Initialised with 14 image(s) found.\n",
      "Output directory set to ./from_data/squamous cell carcinoma\\output."
     ]
    },
    {
     "name": "stderr",
     "output_type": "stream",
     "text": [
      "Processing <PIL.Image.Image image mode=RGB size=6641x4421 at 0x209733A70A0>: 100%|██████████| 1/1 [00:09<00:00,  9.56s/ Samples]\n"
     ]
    },
    {
     "name": "stdout",
     "output_type": "stream",
     "text": [
      "Initialised with 3 image(s) found.\n",
      "Output directory set to ./from_data/vascular lesion\\output."
     ]
    },
    {
     "name": "stderr",
     "output_type": "stream",
     "text": [
      "Processing <PIL.Image.Image image mode=RGB size=600x450 at 0x20973389490>: 100%|██████████| 12/12 [00:00<00:00, 32.99 Samples/s]\n"
     ]
    }
   ],
   "source": [
    "for class_ in os.listdir(src_dir):    \n",
    "    if len(os.listdir(f'{src_dir}{class_}')) < max_class_size:\n",
    "        p = Augmentor.Pipeline(os.path.join(src_dir, class_) )\n",
    "        p.rotate(probability=0.5, max_left_rotation=10, max_right_rotation=10)\n",
    "        p.skew_tilt(probability=0.4)\n",
    "        p.zoom(probability=0.5, min_factor=1.1, max_factor=1.5)\n",
    "        p.random_distortion(probability=0.5, grid_width=4, grid_height=4, magnitude=5)\n",
    "        p.sample(max_class_size - len(os.listdir(f'{src_dir}{class_}')))\n"
   ]
  },
  {
   "cell_type": "code",
   "execution_count": 13,
   "metadata": {},
   "outputs": [
    {
     "name": "stdout",
     "output_type": "stream",
     "text": [
      "actinic keratosis\n",
      "basal cell carcinoma\n",
      "dermatofibroma\n",
      "melanoma\n",
      "nevus\n",
      "pigmented benign keratosis\n",
      "seborrheic keratosis\n",
      "squamous cell carcinoma\n",
      "vascular lesion\n"
     ]
    }
   ],
   "source": [
    "for class_ in os.listdir(src_dir):\n",
    "    print(class_)"
   ]
  },
  {
   "cell_type": "code",
   "execution_count": 41,
   "metadata": {},
   "outputs": [],
   "source": [
    "for class_ in os.listdir(src_dir):\n",
    "   for root, dirs, files in os.walk(os.path.join(src_dir,class_)):\n",
    "      for file in files:\n",
    "         src_p = os.path.join(root, file)\n",
    "         des_p = os.path.join(des_dir, class_)\n",
    "         if not os.path.exists(des_p):\n",
    "            os.makedirs(f'{des_dir}{class_}')\n",
    "         else:\n",
    "            des_p = os.path.join(des_dir, class_)\n",
    "         shutil.copy(src_p, des_p)"
   ]
  },
  {
   "cell_type": "code",
   "execution_count": null,
   "metadata": {},
   "outputs": [],
   "source": []
  }
 ],
 "metadata": {
  "kernelspec": {
   "display_name": "Python 3",
   "language": "python",
   "name": "python3"
  },
  "language_info": {
   "codemirror_mode": {
    "name": "ipython",
    "version": 3
   },
   "file_extension": ".py",
   "mimetype": "text/x-python",
   "name": "python",
   "nbconvert_exporter": "python",
   "pygments_lexer": "ipython3",
   "version": "3.8.0"
  },
  "orig_nbformat": 4
 },
 "nbformat": 4,
 "nbformat_minor": 2
}
